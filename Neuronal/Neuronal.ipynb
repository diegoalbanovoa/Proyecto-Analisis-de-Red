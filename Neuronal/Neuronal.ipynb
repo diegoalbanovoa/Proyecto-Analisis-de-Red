{
 "cells": [
  {
   "cell_type": "code",
   "execution_count": 110,
   "metadata": {},
   "outputs": [],
   "source": [
    "import pandas as pd\n",
    "import numpy as np\n",
    "import gzip\n",
    "import requests\n",
    "import matplotlib.pyplot as plt\n",
    "import seaborn as sns\n",
    "\n",
    "from sklearn.preprocessing import LabelEncoder\n",
    "from sklearn.model_selection import train_test_split\n",
    "from sklearn.preprocessing import MinMaxScaler\n",
    "from sklearn.metrics import accuracy_score\n",
    "from sklearn.preprocessing import OneHotEncoder\n",
    "\n",
    "# from ann_visualizer.visualize import ann_viz    \n",
    "\n",
    "from keras.models import Sequential\n",
    "from keras.utils import plot_model\n",
    "from keras.layers import Dense\n",
    "from keras.optimizers import Adam"
   ]
  },
  {
   "attachments": {},
   "cell_type": "markdown",
   "metadata": {},
   "source": [
    "# Neural Network based Intrusion Detection System"
   ]
  },
  {
   "attachments": {},
   "cell_type": "markdown",
   "metadata": {},
   "source": [
    "## Importing the dataset\n"
   ]
  },
  {
   "cell_type": "code",
   "execution_count": 111,
   "metadata": {},
   "outputs": [
    {
     "data": {
      "text/html": [
       "<div>\n",
       "<style scoped>\n",
       "    .dataframe tbody tr th:only-of-type {\n",
       "        vertical-align: middle;\n",
       "    }\n",
       "\n",
       "    .dataframe tbody tr th {\n",
       "        vertical-align: top;\n",
       "    }\n",
       "\n",
       "    .dataframe thead th {\n",
       "        text-align: right;\n",
       "    }\n",
       "</style>\n",
       "<table border=\"1\" class=\"dataframe\">\n",
       "  <thead>\n",
       "    <tr style=\"text-align: right;\">\n",
       "      <th></th>\n",
       "      <th>0</th>\n",
       "      <th>1</th>\n",
       "      <th>2</th>\n",
       "      <th>3</th>\n",
       "      <th>4</th>\n",
       "      <th>5</th>\n",
       "      <th>6</th>\n",
       "      <th>7</th>\n",
       "      <th>8</th>\n",
       "      <th>9</th>\n",
       "      <th>...</th>\n",
       "      <th>32</th>\n",
       "      <th>33</th>\n",
       "      <th>34</th>\n",
       "      <th>35</th>\n",
       "      <th>36</th>\n",
       "      <th>37</th>\n",
       "      <th>38</th>\n",
       "      <th>39</th>\n",
       "      <th>40</th>\n",
       "      <th>41</th>\n",
       "    </tr>\n",
       "  </thead>\n",
       "  <tbody>\n",
       "    <tr>\n",
       "      <th>494016</th>\n",
       "      <td>0</td>\n",
       "      <td>tcp</td>\n",
       "      <td>http</td>\n",
       "      <td>SF</td>\n",
       "      <td>310</td>\n",
       "      <td>1881</td>\n",
       "      <td>0</td>\n",
       "      <td>0</td>\n",
       "      <td>0</td>\n",
       "      <td>0</td>\n",
       "      <td>...</td>\n",
       "      <td>255</td>\n",
       "      <td>1.0</td>\n",
       "      <td>0.0</td>\n",
       "      <td>0.01</td>\n",
       "      <td>0.05</td>\n",
       "      <td>0.00</td>\n",
       "      <td>0.01</td>\n",
       "      <td>0.0</td>\n",
       "      <td>0.0</td>\n",
       "      <td>normal.</td>\n",
       "    </tr>\n",
       "    <tr>\n",
       "      <th>494017</th>\n",
       "      <td>0</td>\n",
       "      <td>tcp</td>\n",
       "      <td>http</td>\n",
       "      <td>SF</td>\n",
       "      <td>282</td>\n",
       "      <td>2286</td>\n",
       "      <td>0</td>\n",
       "      <td>0</td>\n",
       "      <td>0</td>\n",
       "      <td>0</td>\n",
       "      <td>...</td>\n",
       "      <td>255</td>\n",
       "      <td>1.0</td>\n",
       "      <td>0.0</td>\n",
       "      <td>0.17</td>\n",
       "      <td>0.05</td>\n",
       "      <td>0.00</td>\n",
       "      <td>0.01</td>\n",
       "      <td>0.0</td>\n",
       "      <td>0.0</td>\n",
       "      <td>normal.</td>\n",
       "    </tr>\n",
       "    <tr>\n",
       "      <th>494018</th>\n",
       "      <td>0</td>\n",
       "      <td>tcp</td>\n",
       "      <td>http</td>\n",
       "      <td>SF</td>\n",
       "      <td>203</td>\n",
       "      <td>1200</td>\n",
       "      <td>0</td>\n",
       "      <td>0</td>\n",
       "      <td>0</td>\n",
       "      <td>0</td>\n",
       "      <td>...</td>\n",
       "      <td>255</td>\n",
       "      <td>1.0</td>\n",
       "      <td>0.0</td>\n",
       "      <td>0.06</td>\n",
       "      <td>0.05</td>\n",
       "      <td>0.06</td>\n",
       "      <td>0.01</td>\n",
       "      <td>0.0</td>\n",
       "      <td>0.0</td>\n",
       "      <td>normal.</td>\n",
       "    </tr>\n",
       "    <tr>\n",
       "      <th>494019</th>\n",
       "      <td>0</td>\n",
       "      <td>tcp</td>\n",
       "      <td>http</td>\n",
       "      <td>SF</td>\n",
       "      <td>291</td>\n",
       "      <td>1200</td>\n",
       "      <td>0</td>\n",
       "      <td>0</td>\n",
       "      <td>0</td>\n",
       "      <td>0</td>\n",
       "      <td>...</td>\n",
       "      <td>255</td>\n",
       "      <td>1.0</td>\n",
       "      <td>0.0</td>\n",
       "      <td>0.04</td>\n",
       "      <td>0.05</td>\n",
       "      <td>0.04</td>\n",
       "      <td>0.01</td>\n",
       "      <td>0.0</td>\n",
       "      <td>0.0</td>\n",
       "      <td>normal.</td>\n",
       "    </tr>\n",
       "    <tr>\n",
       "      <th>494020</th>\n",
       "      <td>0</td>\n",
       "      <td>tcp</td>\n",
       "      <td>http</td>\n",
       "      <td>SF</td>\n",
       "      <td>219</td>\n",
       "      <td>1234</td>\n",
       "      <td>0</td>\n",
       "      <td>0</td>\n",
       "      <td>0</td>\n",
       "      <td>0</td>\n",
       "      <td>...</td>\n",
       "      <td>255</td>\n",
       "      <td>1.0</td>\n",
       "      <td>0.0</td>\n",
       "      <td>0.17</td>\n",
       "      <td>0.05</td>\n",
       "      <td>0.00</td>\n",
       "      <td>0.01</td>\n",
       "      <td>0.0</td>\n",
       "      <td>0.0</td>\n",
       "      <td>normal.</td>\n",
       "    </tr>\n",
       "  </tbody>\n",
       "</table>\n",
       "<p>5 rows × 42 columns</p>\n",
       "</div>"
      ],
      "text/plain": [
       "        0    1     2   3    4     5   6   7   8   9   ...   32   33   34   \n",
       "494016   0  tcp  http  SF  310  1881   0   0   0   0  ...  255  1.0  0.0  \\\n",
       "494017   0  tcp  http  SF  282  2286   0   0   0   0  ...  255  1.0  0.0   \n",
       "494018   0  tcp  http  SF  203  1200   0   0   0   0  ...  255  1.0  0.0   \n",
       "494019   0  tcp  http  SF  291  1200   0   0   0   0  ...  255  1.0  0.0   \n",
       "494020   0  tcp  http  SF  219  1234   0   0   0   0  ...  255  1.0  0.0   \n",
       "\n",
       "          35    36    37    38   39   40       41  \n",
       "494016  0.01  0.05  0.00  0.01  0.0  0.0  normal.  \n",
       "494017  0.17  0.05  0.00  0.01  0.0  0.0  normal.  \n",
       "494018  0.06  0.05  0.06  0.01  0.0  0.0  normal.  \n",
       "494019  0.04  0.05  0.04  0.01  0.0  0.0  normal.  \n",
       "494020  0.17  0.05  0.00  0.01  0.0  0.0  normal.  \n",
       "\n",
       "[5 rows x 42 columns]"
      ]
     },
     "execution_count": 111,
     "metadata": {},
     "output_type": "execute_result"
    }
   ],
   "source": [
    "df = pd.read_csv('kddcup.data_10_percent.gz', header=None)\n",
    "cols = pd.read_csv('kddcup.names',header=None)\n",
    "\n",
    "df.tail()"
   ]
  },
  {
   "attachments": {},
   "cell_type": "markdown",
   "metadata": {},
   "source": [
    "etiquetas para la deteccion de intrusos\n",
    "- \"back\": Indica un intento de acceso no autorizado a un sistema remoto para obtener acceso posterior.\n",
    "- \"buffer_overflow\": Se refiere a un ataque en el que un programa o proceso intenta escribir más datos en un búfer de memoria de lo que puede contener, lo que puede resultar en la corrupción de la memoria y posiblemente permitir un acceso no autorizado al sistema.\n",
    "- \"ftp_write\": Indica un intento de acceso no autorizado para escribir o transferir archivos a través del protocolo FTP.\n",
    "- \"guess_passwd\": Se refiere a un intento de adivinar o descifrar contraseñas para obtener acceso no autorizado a un sistema.\n",
    "- \"imap\": Indica un intento de acceso no autorizado al protocolo de correo IMAP.\n",
    "- \"ipsweep\": Se refiere a un escaneo de direcciones IP con el objetivo de identificar hosts activos en una red.\n",
    "- \"land\": Indica un ataque en el que se envían paquetes maliciosos con la dirección de origen y destino establecidas en la misma dirección IP, lo que puede causar una denegación de servicio.\n",
    "- \"loadmodule\": Se refiere a un intento de carga y ejecución de un módulo o código malicioso en un sistema comprometido.\n",
    "- \"multihop\": Indica un intento de saltar a través de múltiples sistemas comprometidos para ocultar la fuente de un ataque.\n",
    "- \"neptune\": Indica un ataque de denegación de servicio (DoS) que tiene como objetivo abrumar un sistema o red con una gran cantidad de solicitudes y conexiones falsas.\n",
    "- \"nmap\": Se refiere a la detección de puertos y servicios en una red utilizando la herramienta de escaneo de puertos Nmap.\n",
    "- \"perl\": Indica un intento de ejecutar código Perl malicioso en un sistema comprometido.\n",
    "- \"phf\": Se refiere a un ataque en el que se explota una vulnerabilidad en el servidor web para obtener acceso no autorizado a archivos protegidos.\n",
    "- \"pod\": Indica un ataque de denegación de servicio (DoS) en el que se envían paquetes malformados o sobredimensionados para sobrecargar y bloquear un sistema.\n",
    "- \"portsweep\": Se refiere a un escaneo de puertos en múltiples hosts con el objetivo de encontrar vulnerabilidades y servicios activos.\n",
    "- \"rootkit\": Indica la presencia de un conjunto de herramientas y técnicas utilizadas para ocultar y mantener el acceso no autorizado a un sistema comprometido.\n",
    "- \"satan\": Se refiere a un escaneo de red y detección de vulnerabilidades utilizando la herramienta de escaneo de seguridad satan.\n",
    "- \"smurf\": Indica un ataque de denegación de servicio (DoS) en el que se envían paquetes de ping a una red de difusión, lo que resulta en una inundación de respuestas hacia la víctima.\n",
    "- \"spy\": Indica actividades sos"
   ]
  },
  {
   "cell_type": "code",
   "execution_count": 112,
   "metadata": {},
   "outputs": [
    {
     "name": "stdout",
     "output_type": "stream",
     "text": [
      "back dos\n",
      "buffer_overflow u2r\n",
      "ftp_write r2l\n",
      "guess_passwd r2l\n",
      "imap r2l\n",
      "ipsweep probe\n",
      "land dos\n",
      "loadmodule u2r\n",
      "multihop r2l\n",
      "neptune dos\n",
      "nmap probe\n",
      "perl u2r\n",
      "phf r2l\n",
      "pod dos\n",
      "portsweep probe\n",
      "rootkit u2r\n",
      "satan probe\n",
      "smurf dos\n",
      "spy r2l\n",
      "teardrop dos\n",
      "warezclient r2l\n",
      "warezmaster r2l\n",
      "\n",
      "\n"
     ]
    }
   ],
   "source": [
    "with open('training_attack_types', 'r') as f:\n",
    "    attack_types = f.read()\n",
    "    print(attack_types)"
   ]
  },
  {
   "cell_type": "code",
   "execution_count": 113,
   "metadata": {},
   "outputs": [
    {
     "name": "stdout",
     "output_type": "stream",
     "text": [
      "{'normal': 'normal', 'back': 'dos', 'buffer_overflow': 'u2r', 'ftp_write': 'r2l', 'guess_passwd': 'r2l', 'imap': 'r2l', 'ipsweep': 'probe', 'land': 'dos', 'loadmodule': 'u2r', 'multihop': 'r2l', 'neptune': 'dos', 'nmap': 'probe', 'perl': 'u2r', 'phf': 'r2l', 'pod': 'dos', 'portsweep': 'probe', 'rootkit': 'u2r', 'satan': 'probe', 'smurf': 'dos', 'spy': 'r2l', 'teardrop': 'dos', 'warezclient': 'r2l', 'warezmaster': 'r2l'}\n"
     ]
    }
   ],
   "source": [
    "## Creating a dictionary of attack types\n",
    "types = dict()\n",
    "types['normal'] = 'normal'\n",
    "for line in attack_types.split(\"\\n\"):\n",
    "    if line:\n",
    "        attack, description = line.split(\" \", 1)\n",
    "        types[attack] = description\n",
    "\n",
    "print(types)"
   ]
  },
  {
   "attachments": {},
   "cell_type": "markdown",
   "metadata": {},
   "source": [
    "Descripciones:\n",
    "\n",
    "- 'normal': Indica tráfico normal, es decir, actividades legítimas y no maliciosas en la red.\n",
    "- 'dos': Significa \"Denial of Service\" (DoS), que se refiere a un tipo de ataque en el que el objetivo es abrumar un sistema o una red con una gran cantidad de solicitudes o tráfico malicioso para que no pueda funcionar correctamente.\n",
    "- 'u2r': Significa \"User to Root\" (Usuario a Root) y se refiere a ataques en los que un usuario no privilegiado intenta obtener acceso y privilegios de administrador (root) en un sistema comprometido.\n",
    "- 'r2l': Significa \"Remote to Local\" (Remoto a Local) y se refiere a ataques en los que un usuario o entidad externa intenta obtener acceso no autorizado a un sistema o red.\n",
    "- 'probe': Indica actividades de escaneo o sondeo de la red en busca de información sobre los sistemas y servicios disponibles, con el objetivo de encontrar vulnerabilidades o puntos de entrada para futuros ataques."
   ]
  },
  {
   "cell_type": "code",
   "execution_count": 114,
   "metadata": {},
   "outputs": [
    {
     "data": {
      "text/html": [
       "<div>\n",
       "<style scoped>\n",
       "    .dataframe tbody tr th:only-of-type {\n",
       "        vertical-align: middle;\n",
       "    }\n",
       "\n",
       "    .dataframe tbody tr th {\n",
       "        vertical-align: top;\n",
       "    }\n",
       "\n",
       "    .dataframe thead th {\n",
       "        text-align: right;\n",
       "    }\n",
       "</style>\n",
       "<table border=\"1\" class=\"dataframe\">\n",
       "  <thead>\n",
       "    <tr style=\"text-align: right;\">\n",
       "      <th></th>\n",
       "      <th>0</th>\n",
       "    </tr>\n",
       "  </thead>\n",
       "  <tbody>\n",
       "    <tr>\n",
       "      <th>0</th>\n",
       "      <td>duration: continuous.</td>\n",
       "    </tr>\n",
       "    <tr>\n",
       "      <th>1</th>\n",
       "      <td>protocol_type: symbolic.</td>\n",
       "    </tr>\n",
       "    <tr>\n",
       "      <th>2</th>\n",
       "      <td>service: symbolic.</td>\n",
       "    </tr>\n",
       "    <tr>\n",
       "      <th>3</th>\n",
       "      <td>flag: symbolic.</td>\n",
       "    </tr>\n",
       "    <tr>\n",
       "      <th>4</th>\n",
       "      <td>src_bytes: continuous.</td>\n",
       "    </tr>\n",
       "  </tbody>\n",
       "</table>\n",
       "</div>"
      ],
      "text/plain": [
       "                          0\n",
       "0     duration: continuous.\n",
       "1  protocol_type: symbolic.\n",
       "2        service: symbolic.\n",
       "3           flag: symbolic.\n",
       "4    src_bytes: continuous."
      ]
     },
     "execution_count": 114,
     "metadata": {},
     "output_type": "execute_result"
    }
   ],
   "source": [
    "if cols[0][0] == 'back':\n",
    "    cols = cols.drop(cols.index[0])\n",
    "    cols.reset_index(drop=True, inplace=True)\n",
    "\n",
    "cols = cols.dropna(axis=1)\n",
    "cols.head()"
   ]
  },
  {
   "cell_type": "code",
   "execution_count": 115,
   "metadata": {},
   "outputs": [
    {
     "data": {
      "text/html": [
       "<div>\n",
       "<style scoped>\n",
       "    .dataframe tbody tr th:only-of-type {\n",
       "        vertical-align: middle;\n",
       "    }\n",
       "\n",
       "    .dataframe tbody tr th {\n",
       "        vertical-align: top;\n",
       "    }\n",
       "\n",
       "    .dataframe thead th {\n",
       "        text-align: right;\n",
       "    }\n",
       "</style>\n",
       "<table border=\"1\" class=\"dataframe\">\n",
       "  <thead>\n",
       "    <tr style=\"text-align: right;\">\n",
       "      <th></th>\n",
       "      <th>0</th>\n",
       "      <th>1</th>\n",
       "    </tr>\n",
       "  </thead>\n",
       "  <tbody>\n",
       "    <tr>\n",
       "      <th>0</th>\n",
       "      <td>duration</td>\n",
       "      <td>continuous.</td>\n",
       "    </tr>\n",
       "    <tr>\n",
       "      <th>1</th>\n",
       "      <td>protocol_type</td>\n",
       "      <td>symbolic.</td>\n",
       "    </tr>\n",
       "    <tr>\n",
       "      <th>2</th>\n",
       "      <td>service</td>\n",
       "      <td>symbolic.</td>\n",
       "    </tr>\n",
       "    <tr>\n",
       "      <th>3</th>\n",
       "      <td>flag</td>\n",
       "      <td>symbolic.</td>\n",
       "    </tr>\n",
       "    <tr>\n",
       "      <th>4</th>\n",
       "      <td>src_bytes</td>\n",
       "      <td>continuous.</td>\n",
       "    </tr>\n",
       "  </tbody>\n",
       "</table>\n",
       "</div>"
      ],
      "text/plain": [
       "               0             1\n",
       "0       duration   continuous.\n",
       "1  protocol_type     symbolic.\n",
       "2        service     symbolic.\n",
       "3           flag     symbolic.\n",
       "4      src_bytes   continuous."
      ]
     },
     "execution_count": 115,
     "metadata": {},
     "output_type": "execute_result"
    }
   ],
   "source": [
    "cols[[0,1]] = cols[0].str.split(':',expand = True)\n",
    "\n",
    "cols.head()"
   ]
  },
  {
   "cell_type": "code",
   "execution_count": 116,
   "metadata": {},
   "outputs": [],
   "source": [
    "names = cols[0].tolist()\n",
    "names.append('label')\n",
    "df.columns = names"
   ]
  },
  {
   "cell_type": "code",
   "execution_count": 117,
   "metadata": {},
   "outputs": [
    {
     "data": {
      "text/html": [
       "<div>\n",
       "<style scoped>\n",
       "    .dataframe tbody tr th:only-of-type {\n",
       "        vertical-align: middle;\n",
       "    }\n",
       "\n",
       "    .dataframe tbody tr th {\n",
       "        vertical-align: top;\n",
       "    }\n",
       "\n",
       "    .dataframe thead th {\n",
       "        text-align: right;\n",
       "    }\n",
       "</style>\n",
       "<table border=\"1\" class=\"dataframe\">\n",
       "  <thead>\n",
       "    <tr style=\"text-align: right;\">\n",
       "      <th></th>\n",
       "      <th>duration</th>\n",
       "      <th>protocol_type</th>\n",
       "      <th>service</th>\n",
       "      <th>flag</th>\n",
       "      <th>src_bytes</th>\n",
       "      <th>dst_bytes</th>\n",
       "      <th>land</th>\n",
       "      <th>wrong_fragment</th>\n",
       "      <th>urgent</th>\n",
       "      <th>hot</th>\n",
       "      <th>...</th>\n",
       "      <th>dst_host_srv_count</th>\n",
       "      <th>dst_host_same_srv_rate</th>\n",
       "      <th>dst_host_diff_srv_rate</th>\n",
       "      <th>dst_host_same_src_port_rate</th>\n",
       "      <th>dst_host_srv_diff_host_rate</th>\n",
       "      <th>dst_host_serror_rate</th>\n",
       "      <th>dst_host_srv_serror_rate</th>\n",
       "      <th>dst_host_rerror_rate</th>\n",
       "      <th>dst_host_srv_rerror_rate</th>\n",
       "      <th>label</th>\n",
       "    </tr>\n",
       "  </thead>\n",
       "  <tbody>\n",
       "    <tr>\n",
       "      <th>0</th>\n",
       "      <td>0</td>\n",
       "      <td>tcp</td>\n",
       "      <td>http</td>\n",
       "      <td>SF</td>\n",
       "      <td>181</td>\n",
       "      <td>5450</td>\n",
       "      <td>0</td>\n",
       "      <td>0</td>\n",
       "      <td>0</td>\n",
       "      <td>0</td>\n",
       "      <td>...</td>\n",
       "      <td>9</td>\n",
       "      <td>1.0</td>\n",
       "      <td>0.0</td>\n",
       "      <td>0.11</td>\n",
       "      <td>0.0</td>\n",
       "      <td>0.0</td>\n",
       "      <td>0.0</td>\n",
       "      <td>0.0</td>\n",
       "      <td>0.0</td>\n",
       "      <td>normal.</td>\n",
       "    </tr>\n",
       "    <tr>\n",
       "      <th>1</th>\n",
       "      <td>0</td>\n",
       "      <td>tcp</td>\n",
       "      <td>http</td>\n",
       "      <td>SF</td>\n",
       "      <td>239</td>\n",
       "      <td>486</td>\n",
       "      <td>0</td>\n",
       "      <td>0</td>\n",
       "      <td>0</td>\n",
       "      <td>0</td>\n",
       "      <td>...</td>\n",
       "      <td>19</td>\n",
       "      <td>1.0</td>\n",
       "      <td>0.0</td>\n",
       "      <td>0.05</td>\n",
       "      <td>0.0</td>\n",
       "      <td>0.0</td>\n",
       "      <td>0.0</td>\n",
       "      <td>0.0</td>\n",
       "      <td>0.0</td>\n",
       "      <td>normal.</td>\n",
       "    </tr>\n",
       "    <tr>\n",
       "      <th>2</th>\n",
       "      <td>0</td>\n",
       "      <td>tcp</td>\n",
       "      <td>http</td>\n",
       "      <td>SF</td>\n",
       "      <td>235</td>\n",
       "      <td>1337</td>\n",
       "      <td>0</td>\n",
       "      <td>0</td>\n",
       "      <td>0</td>\n",
       "      <td>0</td>\n",
       "      <td>...</td>\n",
       "      <td>29</td>\n",
       "      <td>1.0</td>\n",
       "      <td>0.0</td>\n",
       "      <td>0.03</td>\n",
       "      <td>0.0</td>\n",
       "      <td>0.0</td>\n",
       "      <td>0.0</td>\n",
       "      <td>0.0</td>\n",
       "      <td>0.0</td>\n",
       "      <td>normal.</td>\n",
       "    </tr>\n",
       "    <tr>\n",
       "      <th>3</th>\n",
       "      <td>0</td>\n",
       "      <td>tcp</td>\n",
       "      <td>http</td>\n",
       "      <td>SF</td>\n",
       "      <td>219</td>\n",
       "      <td>1337</td>\n",
       "      <td>0</td>\n",
       "      <td>0</td>\n",
       "      <td>0</td>\n",
       "      <td>0</td>\n",
       "      <td>...</td>\n",
       "      <td>39</td>\n",
       "      <td>1.0</td>\n",
       "      <td>0.0</td>\n",
       "      <td>0.03</td>\n",
       "      <td>0.0</td>\n",
       "      <td>0.0</td>\n",
       "      <td>0.0</td>\n",
       "      <td>0.0</td>\n",
       "      <td>0.0</td>\n",
       "      <td>normal.</td>\n",
       "    </tr>\n",
       "    <tr>\n",
       "      <th>4</th>\n",
       "      <td>0</td>\n",
       "      <td>tcp</td>\n",
       "      <td>http</td>\n",
       "      <td>SF</td>\n",
       "      <td>217</td>\n",
       "      <td>2032</td>\n",
       "      <td>0</td>\n",
       "      <td>0</td>\n",
       "      <td>0</td>\n",
       "      <td>0</td>\n",
       "      <td>...</td>\n",
       "      <td>49</td>\n",
       "      <td>1.0</td>\n",
       "      <td>0.0</td>\n",
       "      <td>0.02</td>\n",
       "      <td>0.0</td>\n",
       "      <td>0.0</td>\n",
       "      <td>0.0</td>\n",
       "      <td>0.0</td>\n",
       "      <td>0.0</td>\n",
       "      <td>normal.</td>\n",
       "    </tr>\n",
       "  </tbody>\n",
       "</table>\n",
       "<p>5 rows × 42 columns</p>\n",
       "</div>"
      ],
      "text/plain": [
       "   duration protocol_type service flag  src_bytes  dst_bytes  land   \n",
       "0         0           tcp    http   SF        181       5450     0  \\\n",
       "1         0           tcp    http   SF        239        486     0   \n",
       "2         0           tcp    http   SF        235       1337     0   \n",
       "3         0           tcp    http   SF        219       1337     0   \n",
       "4         0           tcp    http   SF        217       2032     0   \n",
       "\n",
       "   wrong_fragment  urgent  hot  ...  dst_host_srv_count   \n",
       "0               0       0    0  ...                   9  \\\n",
       "1               0       0    0  ...                  19   \n",
       "2               0       0    0  ...                  29   \n",
       "3               0       0    0  ...                  39   \n",
       "4               0       0    0  ...                  49   \n",
       "\n",
       "   dst_host_same_srv_rate  dst_host_diff_srv_rate   \n",
       "0                     1.0                     0.0  \\\n",
       "1                     1.0                     0.0   \n",
       "2                     1.0                     0.0   \n",
       "3                     1.0                     0.0   \n",
       "4                     1.0                     0.0   \n",
       "\n",
       "   dst_host_same_src_port_rate  dst_host_srv_diff_host_rate   \n",
       "0                         0.11                          0.0  \\\n",
       "1                         0.05                          0.0   \n",
       "2                         0.03                          0.0   \n",
       "3                         0.03                          0.0   \n",
       "4                         0.02                          0.0   \n",
       "\n",
       "   dst_host_serror_rate  dst_host_srv_serror_rate  dst_host_rerror_rate   \n",
       "0                   0.0                       0.0                   0.0  \\\n",
       "1                   0.0                       0.0                   0.0   \n",
       "2                   0.0                       0.0                   0.0   \n",
       "3                   0.0                       0.0                   0.0   \n",
       "4                   0.0                       0.0                   0.0   \n",
       "\n",
       "   dst_host_srv_rerror_rate    label  \n",
       "0                       0.0  normal.  \n",
       "1                       0.0  normal.  \n",
       "2                       0.0  normal.  \n",
       "3                       0.0  normal.  \n",
       "4                       0.0  normal.  \n",
       "\n",
       "[5 rows x 42 columns]"
      ]
     },
     "execution_count": 117,
     "metadata": {},
     "output_type": "execute_result"
    }
   ],
   "source": [
    "df.head()"
   ]
  },
  {
   "cell_type": "code",
   "execution_count": 118,
   "metadata": {},
   "outputs": [
    {
     "data": {
      "text/html": [
       "<div>\n",
       "<style scoped>\n",
       "    .dataframe tbody tr th:only-of-type {\n",
       "        vertical-align: middle;\n",
       "    }\n",
       "\n",
       "    .dataframe tbody tr th {\n",
       "        vertical-align: top;\n",
       "    }\n",
       "\n",
       "    .dataframe thead th {\n",
       "        text-align: right;\n",
       "    }\n",
       "</style>\n",
       "<table border=\"1\" class=\"dataframe\">\n",
       "  <thead>\n",
       "    <tr style=\"text-align: right;\">\n",
       "      <th></th>\n",
       "      <th>duration</th>\n",
       "      <th>protocol_type</th>\n",
       "      <th>service</th>\n",
       "      <th>flag</th>\n",
       "      <th>src_bytes</th>\n",
       "      <th>dst_bytes</th>\n",
       "      <th>land</th>\n",
       "      <th>wrong_fragment</th>\n",
       "      <th>urgent</th>\n",
       "      <th>hot</th>\n",
       "      <th>...</th>\n",
       "      <th>dst_host_same_srv_rate</th>\n",
       "      <th>dst_host_diff_srv_rate</th>\n",
       "      <th>dst_host_same_src_port_rate</th>\n",
       "      <th>dst_host_srv_diff_host_rate</th>\n",
       "      <th>dst_host_serror_rate</th>\n",
       "      <th>dst_host_srv_serror_rate</th>\n",
       "      <th>dst_host_rerror_rate</th>\n",
       "      <th>dst_host_srv_rerror_rate</th>\n",
       "      <th>label</th>\n",
       "      <th>Attack Type</th>\n",
       "    </tr>\n",
       "  </thead>\n",
       "  <tbody>\n",
       "    <tr>\n",
       "      <th>0</th>\n",
       "      <td>0</td>\n",
       "      <td>tcp</td>\n",
       "      <td>http</td>\n",
       "      <td>SF</td>\n",
       "      <td>181</td>\n",
       "      <td>5450</td>\n",
       "      <td>0</td>\n",
       "      <td>0</td>\n",
       "      <td>0</td>\n",
       "      <td>0</td>\n",
       "      <td>...</td>\n",
       "      <td>1.0</td>\n",
       "      <td>0.0</td>\n",
       "      <td>0.11</td>\n",
       "      <td>0.0</td>\n",
       "      <td>0.0</td>\n",
       "      <td>0.0</td>\n",
       "      <td>0.0</td>\n",
       "      <td>0.0</td>\n",
       "      <td>normal.</td>\n",
       "      <td>normal</td>\n",
       "    </tr>\n",
       "    <tr>\n",
       "      <th>1</th>\n",
       "      <td>0</td>\n",
       "      <td>tcp</td>\n",
       "      <td>http</td>\n",
       "      <td>SF</td>\n",
       "      <td>239</td>\n",
       "      <td>486</td>\n",
       "      <td>0</td>\n",
       "      <td>0</td>\n",
       "      <td>0</td>\n",
       "      <td>0</td>\n",
       "      <td>...</td>\n",
       "      <td>1.0</td>\n",
       "      <td>0.0</td>\n",
       "      <td>0.05</td>\n",
       "      <td>0.0</td>\n",
       "      <td>0.0</td>\n",
       "      <td>0.0</td>\n",
       "      <td>0.0</td>\n",
       "      <td>0.0</td>\n",
       "      <td>normal.</td>\n",
       "      <td>normal</td>\n",
       "    </tr>\n",
       "    <tr>\n",
       "      <th>2</th>\n",
       "      <td>0</td>\n",
       "      <td>tcp</td>\n",
       "      <td>http</td>\n",
       "      <td>SF</td>\n",
       "      <td>235</td>\n",
       "      <td>1337</td>\n",
       "      <td>0</td>\n",
       "      <td>0</td>\n",
       "      <td>0</td>\n",
       "      <td>0</td>\n",
       "      <td>...</td>\n",
       "      <td>1.0</td>\n",
       "      <td>0.0</td>\n",
       "      <td>0.03</td>\n",
       "      <td>0.0</td>\n",
       "      <td>0.0</td>\n",
       "      <td>0.0</td>\n",
       "      <td>0.0</td>\n",
       "      <td>0.0</td>\n",
       "      <td>normal.</td>\n",
       "      <td>normal</td>\n",
       "    </tr>\n",
       "    <tr>\n",
       "      <th>3</th>\n",
       "      <td>0</td>\n",
       "      <td>tcp</td>\n",
       "      <td>http</td>\n",
       "      <td>SF</td>\n",
       "      <td>219</td>\n",
       "      <td>1337</td>\n",
       "      <td>0</td>\n",
       "      <td>0</td>\n",
       "      <td>0</td>\n",
       "      <td>0</td>\n",
       "      <td>...</td>\n",
       "      <td>1.0</td>\n",
       "      <td>0.0</td>\n",
       "      <td>0.03</td>\n",
       "      <td>0.0</td>\n",
       "      <td>0.0</td>\n",
       "      <td>0.0</td>\n",
       "      <td>0.0</td>\n",
       "      <td>0.0</td>\n",
       "      <td>normal.</td>\n",
       "      <td>normal</td>\n",
       "    </tr>\n",
       "    <tr>\n",
       "      <th>4</th>\n",
       "      <td>0</td>\n",
       "      <td>tcp</td>\n",
       "      <td>http</td>\n",
       "      <td>SF</td>\n",
       "      <td>217</td>\n",
       "      <td>2032</td>\n",
       "      <td>0</td>\n",
       "      <td>0</td>\n",
       "      <td>0</td>\n",
       "      <td>0</td>\n",
       "      <td>...</td>\n",
       "      <td>1.0</td>\n",
       "      <td>0.0</td>\n",
       "      <td>0.02</td>\n",
       "      <td>0.0</td>\n",
       "      <td>0.0</td>\n",
       "      <td>0.0</td>\n",
       "      <td>0.0</td>\n",
       "      <td>0.0</td>\n",
       "      <td>normal.</td>\n",
       "      <td>normal</td>\n",
       "    </tr>\n",
       "  </tbody>\n",
       "</table>\n",
       "<p>5 rows × 43 columns</p>\n",
       "</div>"
      ],
      "text/plain": [
       "   duration protocol_type service flag  src_bytes  dst_bytes  land   \n",
       "0         0           tcp    http   SF        181       5450     0  \\\n",
       "1         0           tcp    http   SF        239        486     0   \n",
       "2         0           tcp    http   SF        235       1337     0   \n",
       "3         0           tcp    http   SF        219       1337     0   \n",
       "4         0           tcp    http   SF        217       2032     0   \n",
       "\n",
       "   wrong_fragment  urgent  hot  ...  dst_host_same_srv_rate   \n",
       "0               0       0    0  ...                     1.0  \\\n",
       "1               0       0    0  ...                     1.0   \n",
       "2               0       0    0  ...                     1.0   \n",
       "3               0       0    0  ...                     1.0   \n",
       "4               0       0    0  ...                     1.0   \n",
       "\n",
       "   dst_host_diff_srv_rate  dst_host_same_src_port_rate   \n",
       "0                     0.0                         0.11  \\\n",
       "1                     0.0                         0.05   \n",
       "2                     0.0                         0.03   \n",
       "3                     0.0                         0.03   \n",
       "4                     0.0                         0.02   \n",
       "\n",
       "   dst_host_srv_diff_host_rate  dst_host_serror_rate   \n",
       "0                          0.0                   0.0  \\\n",
       "1                          0.0                   0.0   \n",
       "2                          0.0                   0.0   \n",
       "3                          0.0                   0.0   \n",
       "4                          0.0                   0.0   \n",
       "\n",
       "   dst_host_srv_serror_rate  dst_host_rerror_rate  dst_host_srv_rerror_rate   \n",
       "0                       0.0                   0.0                       0.0  \\\n",
       "1                       0.0                   0.0                       0.0   \n",
       "2                       0.0                   0.0                       0.0   \n",
       "3                       0.0                   0.0                       0.0   \n",
       "4                       0.0                   0.0                       0.0   \n",
       "\n",
       "     label  Attack Type  \n",
       "0  normal.       normal  \n",
       "1  normal.       normal  \n",
       "2  normal.       normal  \n",
       "3  normal.       normal  \n",
       "4  normal.       normal  \n",
       "\n",
       "[5 rows x 43 columns]"
      ]
     },
     "execution_count": 118,
     "metadata": {},
     "output_type": "execute_result"
    }
   ],
   "source": [
    "df['Attack Type'] = df['label'].apply(lambda x: types[x[:-1]])\n",
    "df.head()"
   ]
  },
  {
   "attachments": {},
   "cell_type": "markdown",
   "metadata": {},
   "source": [
    "## Exploratory Data Analysis"
   ]
  },
  {
   "cell_type": "code",
   "execution_count": 119,
   "metadata": {},
   "outputs": [
    {
     "data": {
      "text/plain": [
       "Attack Type\n",
       "dos       391458\n",
       "normal     97278\n",
       "probe       4107\n",
       "r2l         1126\n",
       "u2r           52\n",
       "Name: count, dtype: int64"
      ]
     },
     "execution_count": 119,
     "metadata": {},
     "output_type": "execute_result"
    }
   ],
   "source": [
    "AT_count = df['Attack Type'].value_counts()\n",
    "AT_count"
   ]
  },
  {
   "cell_type": "code",
   "execution_count": 120,
   "metadata": {},
   "outputs": [
    {
     "data": {
      "text/plain": [
       "Attack Type\n",
       "dos       79.239142\n",
       "normal    19.691066\n",
       "probe      0.831341\n",
       "r2l        0.227926\n",
       "u2r        0.010526\n",
       "Name: count, dtype: float64"
      ]
     },
     "execution_count": 120,
     "metadata": {},
     "output_type": "execute_result"
    }
   ],
   "source": [
    "AT_per = AT_count/len(df)*100\n",
    "AT_per"
   ]
  },
  {
   "cell_type": "code",
   "execution_count": 121,
   "metadata": {},
   "outputs": [
    {
     "data": {
      "text/plain": [
       "label\n",
       "smurf.              280790\n",
       "neptune.            107201\n",
       "normal.              97278\n",
       "back.                 2203\n",
       "satan.                1589\n",
       "ipsweep.              1247\n",
       "portsweep.            1040\n",
       "warezclient.          1020\n",
       "teardrop.              979\n",
       "pod.                   264\n",
       "nmap.                  231\n",
       "guess_passwd.           53\n",
       "buffer_overflow.        30\n",
       "land.                   21\n",
       "warezmaster.            20\n",
       "imap.                   12\n",
       "rootkit.                10\n",
       "loadmodule.              9\n",
       "ftp_write.               8\n",
       "multihop.                7\n",
       "phf.                     4\n",
       "perl.                    3\n",
       "spy.                     2\n",
       "Name: count, dtype: int64"
      ]
     },
     "execution_count": 121,
     "metadata": {},
     "output_type": "execute_result"
    }
   ],
   "source": [
    "lab_count = df.label.value_counts()\n",
    "lab_count"
   ]
  },
  {
   "cell_type": "code",
   "execution_count": 122,
   "metadata": {},
   "outputs": [
    {
     "data": {
      "text/plain": [
       "label\n",
       "smurf.              56.837665\n",
       "neptune.            21.699685\n",
       "normal.             19.691066\n",
       "back.                0.445932\n",
       "satan.               0.321646\n",
       "ipsweep.             0.252418\n",
       "portsweep.           0.210517\n",
       "warezclient.         0.206469\n",
       "teardrop.            0.198170\n",
       "pod.                 0.053439\n",
       "nmap.                0.046759\n",
       "guess_passwd.        0.010728\n",
       "buffer_overflow.     0.006073\n",
       "land.                0.004251\n",
       "warezmaster.         0.004048\n",
       "imap.                0.002429\n",
       "rootkit.             0.002024\n",
       "loadmodule.          0.001822\n",
       "ftp_write.           0.001619\n",
       "multihop.            0.001417\n",
       "phf.                 0.000810\n",
       "perl.                0.000607\n",
       "spy.                 0.000405\n",
       "Name: count, dtype: float64"
      ]
     },
     "execution_count": 122,
     "metadata": {},
     "output_type": "execute_result"
    }
   ],
   "source": [
    "lab_per = lab_count/len(df)*100\n",
    "lab_per"
   ]
  },
  {
   "cell_type": "code",
   "execution_count": 123,
   "metadata": {},
   "outputs": [
    {
     "name": "stdout",
     "output_type": "stream",
     "text": [
      "Shape : (494021, 43)\n",
      "Number of features : 43\n",
      "missing values : 0\n"
     ]
    }
   ],
   "source": [
    "print(\"Shape :\",df.shape)\n",
    "print(\"Number of features :\",len(df.columns))\n",
    "print(\"missing values :\",df.isnull().sum().sum())"
   ]
  },
  {
   "cell_type": "code",
   "execution_count": 124,
   "metadata": {},
   "outputs": [
    {
     "data": {
      "text/plain": [
       "0"
      ]
     },
     "execution_count": 124,
     "metadata": {},
     "output_type": "execute_result"
    }
   ],
   "source": [
    "#cantidad total de valores nulos en el DataFrame\n",
    "df.isna().sum().sum()"
   ]
  },
  {
   "cell_type": "code",
   "execution_count": 125,
   "metadata": {},
   "outputs": [
    {
     "name": "stdout",
     "output_type": "stream",
     "text": [
      "Categorical features : Index(['protocol_type', 'service', 'flag', 'label', 'Attack Type'], dtype='object')\n",
      "Categorical features list: ['protocol_type', 'service', 'flag', 'label', 'Attack Type']\n",
      "Extracted categorical features list: ['protocol_type', 'service', 'flag']\n"
     ]
    }
   ],
   "source": [
    "categorical = df.select_dtypes(include=['object']).columns\n",
    "print(\"Categorical features :\",categorical)\n",
    "categorical = categorical.tolist()\n",
    "print(\"Categorical features list:\",categorical)\n",
    "categorical.remove('label')\n",
    "categorical.remove('Attack Type')\n",
    "print(\"Extracted categorical features list:\",categorical)"
   ]
  },
  {
   "cell_type": "code",
   "execution_count": 126,
   "metadata": {},
   "outputs": [
    {
     "data": {
      "image/png": "[encoded data removed]",
      "text/plain": [
       "<Figure size 700x700 with 1 Axes>"
      ]
     },
     "metadata": {},
     "output_type": "display_data"
    }
   ],
   "source": [
    "#visualizar la distribución de la columna 'protocol_type'\n",
    "fig, ax = plt.subplots(figsize=(7, 7))\n",
    "sns.countplot(x='protocol_type', data=df, ax=ax, palette='Blues_d')\n",
    "sns.set_style(\"darkgrid\")\n",
    "ax.set_title(\"Data per protocol\")\n",
    "for p in ax.patches:\n",
    "    ax.annotate(str(p.get_height()), (p.get_x() * 1.005, p.get_height() * 1.005))"
   ]
  },
  {
   "cell_type": "code",
   "execution_count": 127,
   "metadata": {},
   "outputs": [
    {
     "data": {
      "text/plain": [
       "protocol_type\n",
       "icmp    57.406871\n",
       "tcp     38.473061\n",
       "udp      4.120068\n",
       "Name: count, dtype: float64"
      ]
     },
     "execution_count": 127,
     "metadata": {},
     "output_type": "execute_result"
    }
   ],
   "source": [
    "df.protocol_type.value_counts()/len(df)*100"
   ]
  },
  {
   "cell_type": "code",
   "execution_count": 128,
   "metadata": {},
   "outputs": [
    {
     "data": {
      "image/png": "[encoded data removed]",
      "text/plain": [
       "<Figure size 1700x700 with 1 Axes>"
      ]
     },
     "metadata": {},
     "output_type": "display_data"
    }
   ],
   "source": [
    "fig, ax = plt.subplots(figsize=(17, 7))\n",
    "sns.countplot(x='service', data=df, ax=ax, palette='Spectral', order=df['service'].value_counts().index,linewidth=0)\n",
    "sns.set_style(\"dark\")\n",
    "plt.xticks(rotation=90)\n",
    "plt.show()"
   ]
  },
  {
   "cell_type": "code",
   "execution_count": 129,
   "metadata": {},
   "outputs": [
    {
     "data": {
      "text/plain": [
       "service\n",
       "ecr_i      56.961141\n",
       "private    22.447021\n",
       "http       13.014224\n",
       "smtp        1.968135\n",
       "other       1.464917\n",
       "             ...    \n",
       "X11         0.002227\n",
       "tim_i       0.001417\n",
       "pm_dump     0.000202\n",
       "tftp_u      0.000202\n",
       "red_i       0.000202\n",
       "Name: count, Length: 66, dtype: float64"
      ]
     },
     "execution_count": 129,
     "metadata": {},
     "output_type": "execute_result"
    }
   ],
   "source": [
    "df.service.value_counts()/len(df)*100"
   ]
  },
  {
   "cell_type": "code",
   "execution_count": 130,
   "metadata": {},
   "outputs": [
    {
     "data": {
      "image/png": "[encoded data removed]",
      "text/plain": [
       "<Figure size 1000x800 with 1 Axes>"
      ]
     },
     "metadata": {},
     "output_type": "display_data"
    }
   ],
   "source": [
    "fig, ax = plt.subplots(figsize=(10, 8))\n",
    "sns.countplot(x='flag', data=df, ax=ax, palette='Blues_r', order=df['flag'].value_counts().index,linewidth=0)\n",
    "plt.show()"
   ]
  },
  {
   "cell_type": "code",
   "execution_count": 131,
   "metadata": {},
   "outputs": [
    {
     "data": {
      "text/plain": [
       "flag\n",
       "SF        76.604031\n",
       "S0        17.612004\n",
       "REJ        5.440052\n",
       "RSTR       0.182786\n",
       "RSTO       0.117201\n",
       "SH         0.021659\n",
       "S1         0.011538\n",
       "S2         0.004858\n",
       "RSTOS0     0.002227\n",
       "S3         0.002024\n",
       "OTH        0.001619\n",
       "Name: count, dtype: float64"
      ]
     },
     "execution_count": 131,
     "metadata": {},
     "output_type": "execute_result"
    }
   ],
   "source": [
    "df.flag.value_counts()/len(df)*100"
   ]
  },
  {
   "cell_type": "code",
   "execution_count": 132,
   "metadata": {},
   "outputs": [
    {
     "data": {
      "image/png": "[encoded data removed]",
      "text/plain": [
       "<Figure size 1500x500 with 1 Axes>"
      ]
     },
     "metadata": {},
     "output_type": "display_data"
    },
    {
     "name": "stdout",
     "output_type": "stream",
     "text": [
      "Top 3 the attack types are :  ['dos', 'normal', 'probe']\n"
     ]
    }
   ],
   "source": [
    "fig, ax = plt.subplots(figsize=(15,5))\n",
    "sns.countplot(x='Attack Type', data=df, ax=ax, palette='Greens_r', order=df['Attack Type'].value_counts().index,linewidth=0)\n",
    "ax.set_title(\"most common attacks\")\n",
    "plt.show()\n",
    "print('Top 3 the attack types are : ',df['Attack Type'].value_counts().index[:3].tolist())"
   ]
  },
  {
   "cell_type": "code",
   "execution_count": 136,
   "metadata": {},
   "outputs": [
    {
     "data": {
      "text/plain": [
       "duration                         int64\n",
       "protocol_type                   object\n",
       "service                         object\n",
       "flag                            object\n",
       "src_bytes                        int64\n",
       "dst_bytes                        int64\n",
       "land                             int64\n",
       "wrong_fragment                   int64\n",
       "urgent                           int64\n",
       "hot                              int64\n",
       "num_failed_logins                int64\n",
       "logged_in                        int64\n",
       "num_compromised                  int64\n",
       "root_shell                       int64\n",
       "su_attempted                     int64\n",
       "num_root                         int64\n",
       "num_file_creations               int64\n",
       "num_shells                       int64\n",
       "num_access_files                 int64\n",
       "num_outbound_cmds                int64\n",
       "is_host_login                    int64\n",
       "is_guest_login                   int64\n",
       "count                            int64\n",
       "srv_count                        int64\n",
       "serror_rate                    float64\n",
       "srv_serror_rate                float64\n",
       "rerror_rate                    float64\n",
       "srv_rerror_rate                float64\n",
       "same_srv_rate                  float64\n",
       "diff_srv_rate                  float64\n",
       "srv_diff_host_rate             float64\n",
       "dst_host_count                   int64\n",
       "dst_host_srv_count               int64\n",
       "dst_host_same_srv_rate         float64\n",
       "dst_host_diff_srv_rate         float64\n",
       "dst_host_same_src_port_rate    float64\n",
       "dst_host_srv_diff_host_rate    float64\n",
       "dst_host_serror_rate           float64\n",
       "dst_host_srv_serror_rate       float64\n",
       "dst_host_rerror_rate           float64\n",
       "dst_host_srv_rerror_rate       float64\n",
       "label                           object\n",
       "Attack Type                     object\n",
       "dtype: object"
      ]
     },
     "execution_count": 136,
     "metadata": {},
     "output_type": "execute_result"
    }
   ],
   "source": [
    "df.dtypes"
   ]
  },
  {
   "cell_type": "code",
   "execution_count": 137,
   "metadata": {},
   "outputs": [
    {
     "data": {
      "text/plain": [
       "protocol_type\n",
       "icmp    283602\n",
       "tcp     190065\n",
       "udp      20354\n",
       "Name: count, dtype: int64"
      ]
     },
     "execution_count": 137,
     "metadata": {},
     "output_type": "execute_result"
    }
   ],
   "source": [
    "df['protocol_type'].value_counts()"
   ]
  },
  {
   "cell_type": "code",
   "execution_count": 138,
   "metadata": {},
   "outputs": [
    {
     "data": {
      "text/plain": [
       "service\n",
       "ecr_i      281400\n",
       "private    110893\n",
       "http        64293\n",
       "smtp         9723\n",
       "other        7237\n",
       "            ...  \n",
       "X11            11\n",
       "tim_i           7\n",
       "pm_dump         1\n",
       "tftp_u          1\n",
       "red_i           1\n",
       "Name: count, Length: 66, dtype: int64"
      ]
     },
     "execution_count": 138,
     "metadata": {},
     "output_type": "execute_result"
    }
   ],
   "source": [
    "df['service'].value_counts()"
   ]
  },
  {
   "cell_type": "code",
   "execution_count": 139,
   "metadata": {},
   "outputs": [
    {
     "data": {
      "text/plain": [
       "flag\n",
       "SF        378440\n",
       "S0         87007\n",
       "REJ        26875\n",
       "RSTR         903\n",
       "RSTO         579\n",
       "SH           107\n",
       "S1            57\n",
       "S2            24\n",
       "RSTOS0        11\n",
       "S3            10\n",
       "OTH            8\n",
       "Name: count, dtype: int64"
      ]
     },
     "execution_count": 139,
     "metadata": {},
     "output_type": "execute_result"
    }
   ],
   "source": [
    "df['flag'].value_counts()"
   ]
  },
  {
   "attachments": {},
   "cell_type": "markdown",
   "metadata": {},
   "source": [
    "## Label Encoding"
   ]
  },
  {
   "cell_type": "code",
   "execution_count": 140,
   "metadata": {},
   "outputs": [],
   "source": [
    "Le = LabelEncoder()\n",
    "df['protocol_type'] = Le.fit_transform(df['protocol_type'])\n",
    "df['service'] = Le.fit_transform(df['service'])\n",
    "df['flag'] = Le.fit_transform(df['flag'])"
   ]
  },
  {
   "cell_type": "code",
   "execution_count": 141,
   "metadata": {},
   "outputs": [
    {
     "data": {
      "text/plain": [
       "protocol_type\n",
       "0    283602\n",
       "1    190065\n",
       "2     20354\n",
       "Name: count, dtype: int64"
      ]
     },
     "execution_count": 141,
     "metadata": {},
     "output_type": "execute_result"
    }
   ],
   "source": [
    "df['protocol_type'].value_counts()"
   ]
  },
  {
   "cell_type": "code",
   "execution_count": 142,
   "metadata": {},
   "outputs": [],
   "source": [
    "df = df.drop(['service'], axis=1)"
   ]
  },
  {
   "cell_type": "code",
   "execution_count": 143,
   "metadata": {},
   "outputs": [
    {
     "data": {
      "text/plain": [
       "flag\n",
       "9     378440\n",
       "5      87007\n",
       "1      26875\n",
       "4        903\n",
       "2        579\n",
       "10       107\n",
       "6         57\n",
       "7         24\n",
       "3         11\n",
       "8         10\n",
       "0          8\n",
       "Name: count, dtype: int64"
      ]
     },
     "execution_count": 143,
     "metadata": {},
     "output_type": "execute_result"
    }
   ],
   "source": [
    "df['flag'].value_counts()"
   ]
  },
  {
   "cell_type": "code",
   "execution_count": 144,
   "metadata": {},
   "outputs": [
    {
     "data": {
      "text/html": [
       "<div>\n",
       "<style scoped>\n",
       "    .dataframe tbody tr th:only-of-type {\n",
       "        vertical-align: middle;\n",
       "    }\n",
       "\n",
       "    .dataframe tbody tr th {\n",
       "        vertical-align: top;\n",
       "    }\n",
       "\n",
       "    .dataframe thead th {\n",
       "        text-align: right;\n",
       "    }\n",
       "</style>\n",
       "<table border=\"1\" class=\"dataframe\">\n",
       "  <thead>\n",
       "    <tr style=\"text-align: right;\">\n",
       "      <th></th>\n",
       "      <th>duration</th>\n",
       "      <th>protocol_type</th>\n",
       "      <th>flag</th>\n",
       "      <th>src_bytes</th>\n",
       "      <th>dst_bytes</th>\n",
       "      <th>land</th>\n",
       "      <th>wrong_fragment</th>\n",
       "      <th>urgent</th>\n",
       "      <th>hot</th>\n",
       "      <th>num_failed_logins</th>\n",
       "      <th>...</th>\n",
       "      <th>dst_host_same_srv_rate</th>\n",
       "      <th>dst_host_diff_srv_rate</th>\n",
       "      <th>dst_host_same_src_port_rate</th>\n",
       "      <th>dst_host_srv_diff_host_rate</th>\n",
       "      <th>dst_host_serror_rate</th>\n",
       "      <th>dst_host_srv_serror_rate</th>\n",
       "      <th>dst_host_rerror_rate</th>\n",
       "      <th>dst_host_srv_rerror_rate</th>\n",
       "      <th>label</th>\n",
       "      <th>Attack Type</th>\n",
       "    </tr>\n",
       "  </thead>\n",
       "  <tbody>\n",
       "    <tr>\n",
       "      <th>0</th>\n",
       "      <td>0</td>\n",
       "      <td>1</td>\n",
       "      <td>9</td>\n",
       "      <td>181</td>\n",
       "      <td>5450</td>\n",
       "      <td>0</td>\n",
       "      <td>0</td>\n",
       "      <td>0</td>\n",
       "      <td>0</td>\n",
       "      <td>0</td>\n",
       "      <td>...</td>\n",
       "      <td>1.0</td>\n",
       "      <td>0.0</td>\n",
       "      <td>0.11</td>\n",
       "      <td>0.0</td>\n",
       "      <td>0.0</td>\n",
       "      <td>0.0</td>\n",
       "      <td>0.0</td>\n",
       "      <td>0.0</td>\n",
       "      <td>normal.</td>\n",
       "      <td>normal</td>\n",
       "    </tr>\n",
       "    <tr>\n",
       "      <th>1</th>\n",
       "      <td>0</td>\n",
       "      <td>1</td>\n",
       "      <td>9</td>\n",
       "      <td>239</td>\n",
       "      <td>486</td>\n",
       "      <td>0</td>\n",
       "      <td>0</td>\n",
       "      <td>0</td>\n",
       "      <td>0</td>\n",
       "      <td>0</td>\n",
       "      <td>...</td>\n",
       "      <td>1.0</td>\n",
       "      <td>0.0</td>\n",
       "      <td>0.05</td>\n",
       "      <td>0.0</td>\n",
       "      <td>0.0</td>\n",
       "      <td>0.0</td>\n",
       "      <td>0.0</td>\n",
       "      <td>0.0</td>\n",
       "      <td>normal.</td>\n",
       "      <td>normal</td>\n",
       "    </tr>\n",
       "    <tr>\n",
       "      <th>2</th>\n",
       "      <td>0</td>\n",
       "      <td>1</td>\n",
       "      <td>9</td>\n",
       "      <td>235</td>\n",
       "      <td>1337</td>\n",
       "      <td>0</td>\n",
       "      <td>0</td>\n",
       "      <td>0</td>\n",
       "      <td>0</td>\n",
       "      <td>0</td>\n",
       "      <td>...</td>\n",
       "      <td>1.0</td>\n",
       "      <td>0.0</td>\n",
       "      <td>0.03</td>\n",
       "      <td>0.0</td>\n",
       "      <td>0.0</td>\n",
       "      <td>0.0</td>\n",
       "      <td>0.0</td>\n",
       "      <td>0.0</td>\n",
       "      <td>normal.</td>\n",
       "      <td>normal</td>\n",
       "    </tr>\n",
       "    <tr>\n",
       "      <th>3</th>\n",
       "      <td>0</td>\n",
       "      <td>1</td>\n",
       "      <td>9</td>\n",
       "      <td>219</td>\n",
       "      <td>1337</td>\n",
       "      <td>0</td>\n",
       "      <td>0</td>\n",
       "      <td>0</td>\n",
       "      <td>0</td>\n",
       "      <td>0</td>\n",
       "      <td>...</td>\n",
       "      <td>1.0</td>\n",
       "      <td>0.0</td>\n",
       "      <td>0.03</td>\n",
       "      <td>0.0</td>\n",
       "      <td>0.0</td>\n",
       "      <td>0.0</td>\n",
       "      <td>0.0</td>\n",
       "      <td>0.0</td>\n",
       "      <td>normal.</td>\n",
       "      <td>normal</td>\n",
       "    </tr>\n",
       "    <tr>\n",
       "      <th>4</th>\n",
       "      <td>0</td>\n",
       "      <td>1</td>\n",
       "      <td>9</td>\n",
       "      <td>217</td>\n",
       "      <td>2032</td>\n",
       "      <td>0</td>\n",
       "      <td>0</td>\n",
       "      <td>0</td>\n",
       "      <td>0</td>\n",
       "      <td>0</td>\n",
       "      <td>...</td>\n",
       "      <td>1.0</td>\n",
       "      <td>0.0</td>\n",
       "      <td>0.02</td>\n",
       "      <td>0.0</td>\n",
       "      <td>0.0</td>\n",
       "      <td>0.0</td>\n",
       "      <td>0.0</td>\n",
       "      <td>0.0</td>\n",
       "      <td>normal.</td>\n",
       "      <td>normal</td>\n",
       "    </tr>\n",
       "  </tbody>\n",
       "</table>\n",
       "<p>5 rows × 42 columns</p>\n",
       "</div>"
      ],
      "text/plain": [
       "   duration  protocol_type  flag  src_bytes  dst_bytes  land  wrong_fragment   \n",
       "0         0              1     9        181       5450     0               0  \\\n",
       "1         0              1     9        239        486     0               0   \n",
       "2         0              1     9        235       1337     0               0   \n",
       "3         0              1     9        219       1337     0               0   \n",
       "4         0              1     9        217       2032     0               0   \n",
       "\n",
       "   urgent  hot  num_failed_logins  ...  dst_host_same_srv_rate   \n",
       "0       0    0                  0  ...                     1.0  \\\n",
       "1       0    0                  0  ...                     1.0   \n",
       "2       0    0                  0  ...                     1.0   \n",
       "3       0    0                  0  ...                     1.0   \n",
       "4       0    0                  0  ...                     1.0   \n",
       "\n",
       "   dst_host_diff_srv_rate  dst_host_same_src_port_rate   \n",
       "0                     0.0                         0.11  \\\n",
       "1                     0.0                         0.05   \n",
       "2                     0.0                         0.03   \n",
       "3                     0.0                         0.03   \n",
       "4                     0.0                         0.02   \n",
       "\n",
       "   dst_host_srv_diff_host_rate  dst_host_serror_rate   \n",
       "0                          0.0                   0.0  \\\n",
       "1                          0.0                   0.0   \n",
       "2                          0.0                   0.0   \n",
       "3                          0.0                   0.0   \n",
       "4                          0.0                   0.0   \n",
       "\n",
       "   dst_host_srv_serror_rate  dst_host_rerror_rate  dst_host_srv_rerror_rate   \n",
       "0                       0.0                   0.0                       0.0  \\\n",
       "1                       0.0                   0.0                       0.0   \n",
       "2                       0.0                   0.0                       0.0   \n",
       "3                       0.0                   0.0                       0.0   \n",
       "4                       0.0                   0.0                       0.0   \n",
       "\n",
       "     label  Attack Type  \n",
       "0  normal.       normal  \n",
       "1  normal.       normal  \n",
       "2  normal.       normal  \n",
       "3  normal.       normal  \n",
       "4  normal.       normal  \n",
       "\n",
       "[5 rows x 42 columns]"
      ]
     },
     "execution_count": 144,
     "metadata": {},
     "output_type": "execute_result"
    }
   ],
   "source": [
    "df.head()"
   ]
  },
  {
   "cell_type": "code",
   "execution_count": 145,
   "metadata": {},
   "outputs": [],
   "source": [
    "#guardar dataset consolidado\n",
    "df.to_csv('processed_kdd.csv', index=False)"
   ]
  },
  {
   "attachments": {},
   "cell_type": "markdown",
   "metadata": {},
   "source": [
    "## features"
   ]
  },
  {
   "cell_type": "code",
   "execution_count": 146,
   "metadata": {},
   "outputs": [],
   "source": [
    "X = df.drop(['label', 'Attack Type'], axis=1)\n",
    "y = df['Attack Type']\n",
    "scaler = MinMaxScaler()\n",
    "X = scaler.fit_transform(X)"
   ]
  },
  {
   "attachments": {},
   "cell_type": "markdown",
   "metadata": {},
   "source": [
    "## Train - Test Split"
   ]
  },
  {
   "cell_type": "code",
   "execution_count": 147,
   "metadata": {},
   "outputs": [],
   "source": [
    "#tamaño del conjunto de prueba: 20%,  conjunto de entrenamiento: 80% \n",
    "#semilla para la generación de números aleatorios\n",
    "X_train, X_test, y_train, y_test = train_test_split(X, y, test_size=0.2, random_state=42)"
   ]
  },
  {
   "cell_type": "code",
   "execution_count": 148,
   "metadata": {},
   "outputs": [],
   "source": [
    "y_train = np.array(y_train)\n",
    "y_test = np.array(y_test)\n",
    "encoder = OneHotEncoder()\n",
    "y_train = encoder.fit_transform(y_train.reshape(-1, 1)).toarray()\n",
    "y_test = encoder.fit_transform(y_test.reshape(-1, 1)).toarray()"
   ]
  },
  {
   "cell_type": "code",
   "execution_count": 149,
   "metadata": {},
   "outputs": [
    {
     "name": "stdout",
     "output_type": "stream",
     "text": [
      "Epoch 1/10\n",
      "12351/12351 [==============================] - 25s 2ms/step - loss: 0.0608 - accuracy: 0.9824 - val_loss: 0.0569 - val_accuracy: 0.9838\n",
      "Epoch 2/10\n",
      "12351/12351 [==============================] - 23s 2ms/step - loss: 0.0774 - accuracy: 0.9764 - val_loss: 0.0814 - val_accuracy: 0.9733\n",
      "Epoch 3/10\n",
      "12351/12351 [==============================] - 23s 2ms/step - loss: 0.0825 - accuracy: 0.9716 - val_loss: 0.0779 - val_accuracy: 0.9738\n",
      "Epoch 4/10\n",
      "12351/12351 [==============================] - 23s 2ms/step - loss: 0.0827 - accuracy: 0.9717 - val_loss: 0.0992 - val_accuracy: 0.9728\n",
      "Epoch 5/10\n",
      "12351/12351 [==============================] - 21s 2ms/step - loss: 0.0818 - accuracy: 0.9719 - val_loss: 0.0784 - val_accuracy: 0.9719\n",
      "Epoch 6/10\n",
      "12351/12351 [==============================] - 21s 2ms/step - loss: 0.0811 - accuracy: 0.9721 - val_loss: 0.0904 - val_accuracy: 0.9736\n",
      "Epoch 7/10\n",
      "12351/12351 [==============================] - 21s 2ms/step - loss: 0.0827 - accuracy: 0.9718 - val_loss: 0.0823 - val_accuracy: 0.9725\n",
      "Epoch 8/10\n",
      "12351/12351 [==============================] - 25s 2ms/step - loss: 0.0822 - accuracy: 0.9719 - val_loss: 0.0881 - val_accuracy: 0.9423\n",
      "Epoch 9/10\n",
      "12351/12351 [==============================] - 21s 2ms/step - loss: 0.0820 - accuracy: 0.9716 - val_loss: 0.0772 - val_accuracy: 0.9736\n",
      "Epoch 10/10\n",
      "12351/12351 [==============================] - 22s 2ms/step - loss: 0.0838 - accuracy: 0.9718 - val_loss: 0.0916 - val_accuracy: 0.9714\n",
      "Epoch 1/10\n",
      "12351/12351 [==============================] - 23s 2ms/step - loss: 0.0114 - accuracy: 0.9969 - val_loss: 0.0053 - val_accuracy: 0.9987\n",
      "Epoch 2/10\n",
      "12351/12351 [==============================] - 22s 2ms/step - loss: 0.0062 - accuracy: 0.9984 - val_loss: 0.0052 - val_accuracy: 0.9987\n",
      "Epoch 3/10\n",
      "12351/12351 [==============================] - 24s 2ms/step - loss: 0.0059 - accuracy: 0.9986 - val_loss: 0.0088 - val_accuracy: 0.9981\n",
      "Epoch 4/10\n",
      "12351/12351 [==============================] - 23s 2ms/step - loss: 0.0056 - accuracy: 0.9987 - val_loss: 0.0048 - val_accuracy: 0.9988\n",
      "Epoch 5/10\n",
      "12351/12351 [==============================] - 22s 2ms/step - loss: 0.0056 - accuracy: 0.9988 - val_loss: 0.0062 - val_accuracy: 0.9979\n",
      "Epoch 6/10\n",
      "12351/12351 [==============================] - 23s 2ms/step - loss: 0.0051 - accuracy: 0.9988 - val_loss: 0.0054 - val_accuracy: 0.9988\n",
      "Epoch 7/10\n",
      "12351/12351 [==============================] - 24s 2ms/step - loss: 0.0055 - accuracy: 0.9989 - val_loss: 0.0092 - val_accuracy: 0.9985\n",
      "Epoch 8/10\n",
      "12351/12351 [==============================] - 27s 2ms/step - loss: 0.0047 - accuracy: 0.9989 - val_loss: 0.0053 - val_accuracy: 0.9988\n",
      "Epoch 9/10\n",
      "12351/12351 [==============================] - 25s 2ms/step - loss: 0.0050 - accuracy: 0.9990 - val_loss: 0.0077 - val_accuracy: 0.9984\n",
      "Epoch 10/10\n",
      "12351/12351 [==============================] - 22s 2ms/step - loss: 0.0054 - accuracy: 0.9989 - val_loss: 0.0065 - val_accuracy: 0.9989\n",
      "Epoch 1/10\n",
      "12351/12351 [==============================] - 22s 2ms/step - loss: 0.0229 - accuracy: 0.9934 - val_loss: 0.0048 - val_accuracy: 0.9989\n",
      "Epoch 2/10\n",
      "12351/12351 [==============================] - 19s 2ms/step - loss: 0.0047 - accuracy: 0.9988 - val_loss: 0.0042 - val_accuracy: 0.9988\n",
      "Epoch 3/10\n",
      "12351/12351 [==============================] - 19s 2ms/step - loss: 0.0040 - accuracy: 0.9990 - val_loss: 0.0038 - val_accuracy: 0.9990\n",
      "Epoch 4/10\n",
      "12351/12351 [==============================] - 19s 2ms/step - loss: 0.0035 - accuracy: 0.9990 - val_loss: 0.0036 - val_accuracy: 0.9991\n",
      "Epoch 5/10\n",
      "12351/12351 [==============================] - 20s 2ms/step - loss: 0.0034 - accuracy: 0.9991 - val_loss: 0.0042 - val_accuracy: 0.9988\n",
      "Epoch 6/10\n",
      "12351/12351 [==============================] - 19s 2ms/step - loss: 0.0031 - accuracy: 0.9992 - val_loss: 0.0040 - val_accuracy: 0.9987\n",
      "Epoch 7/10\n",
      "12351/12351 [==============================] - 19s 2ms/step - loss: 0.0030 - accuracy: 0.9992 - val_loss: 0.0034 - val_accuracy: 0.9990\n",
      "Epoch 8/10\n",
      "12351/12351 [==============================] - 22s 2ms/step - loss: 0.0029 - accuracy: 0.9992 - val_loss: 0.0040 - val_accuracy: 0.9989\n",
      "Epoch 9/10\n",
      "12351/12351 [==============================] - 20s 2ms/step - loss: 0.0027 - accuracy: 0.9993 - val_loss: 0.0032 - val_accuracy: 0.9992\n",
      "Epoch 10/10\n",
      "12351/12351 [==============================] - 19s 2ms/step - loss: 0.0026 - accuracy: 0.9993 - val_loss: 0.0034 - val_accuracy: 0.9991\n",
      "Epoch 1/10\n",
      "12351/12351 [==============================] - 20s 2ms/step - loss: 0.1139 - accuracy: 0.9718 - val_loss: 0.0370 - val_accuracy: 0.9916\n",
      "Epoch 2/10\n",
      "12351/12351 [==============================] - 20s 2ms/step - loss: 0.0302 - accuracy: 0.9919 - val_loss: 0.0253 - val_accuracy: 0.9920\n",
      "Epoch 3/10\n",
      "12351/12351 [==============================] - 20s 2ms/step - loss: 0.0195 - accuracy: 0.9928 - val_loss: 0.0156 - val_accuracy: 0.9938\n",
      "Epoch 4/10\n",
      "12351/12351 [==============================] - 20s 2ms/step - loss: 0.0120 - accuracy: 0.9967 - val_loss: 0.0103 - val_accuracy: 0.9980\n",
      "Epoch 5/10\n",
      "12351/12351 [==============================] - 19s 2ms/step - loss: 0.0083 - accuracy: 0.9984 - val_loss: 0.0078 - val_accuracy: 0.9983\n",
      "Epoch 6/10\n",
      "12351/12351 [==============================] - 20s 2ms/step - loss: 0.0066 - accuracy: 0.9986 - val_loss: 0.0066 - val_accuracy: 0.9986\n",
      "Epoch 7/10\n",
      "12351/12351 [==============================] - 20s 2ms/step - loss: 0.0056 - accuracy: 0.9987 - val_loss: 0.0058 - val_accuracy: 0.9987\n",
      "Epoch 8/10\n",
      "12351/12351 [==============================] - 20s 2ms/step - loss: 0.0051 - accuracy: 0.9988 - val_loss: 0.0055 - val_accuracy: 0.9988\n",
      "Epoch 9/10\n",
      "12351/12351 [==============================] - 19s 2ms/step - loss: 0.0047 - accuracy: 0.9989 - val_loss: 0.0051 - val_accuracy: 0.9989\n",
      "Epoch 10/10\n",
      "12351/12351 [==============================] - 32s 3ms/step - loss: 0.0044 - accuracy: 0.9990 - val_loss: 0.0049 - val_accuracy: 0.9989\n"
     ]
    },
    {
     "data": {
      "image/png": "[encoded data removed]",
      "text/plain": [
       "<Figure size 1000x800 with 4 Axes>"
      ]
     },
     "metadata": {},
     "output_type": "display_data"
    }
   ],
   "source": [
    "## checking how a model performs with different learning rates\n",
    "\n",
    "fig, ax = plt.subplots(4,figsize=(10, 8))\n",
    "ax = ax.flatten()\n",
    "\n",
    "learning_rates = [0.1, 0.01, 0.001, 0.0001]\n",
    "for i, lr in enumerate(learning_rates):\n",
    "    opt = Adam(learning_rate=lr)\n",
    "    model = Sequential()\n",
    "    model.add(Dense(X_train.shape[1], input_dim=X_train.shape[1], activation='relu'))\n",
    "    model.add(Dense(12, activation='relu'))\n",
    "    model.add(Dense(5, activation='softmax'))\n",
    "    model.compile(loss='categorical_crossentropy', optimizer=opt, metrics=['accuracy'])\n",
    "    trials = model.fit(X_train, y_train, epochs=10, validation_data=(X_test, y_test))\n",
    "\n",
    "# traza las curvas de precisión en función de las épocas para cada tasa de aprendizaje, esto permite visualizar y comparar el rendimiento del modelo con diferentes tasas de aprendizaje.\n",
    "    ax[i].plot(trials.history['accuracy'], label= str(lr))\n",
    "    ax[i].set_title('Learning Rate: ' + str(lr))\n",
    "    ax[i].set_xlabel('Epoch')\n",
    "    ax[i].set_ylabel('Accuracy')\n",
    "    ax[i].legend()\n",
    "\n",
    "plt.tight_layout()\n",
    "plt.show()"
   ]
  },
  {
   "attachments": {},
   "cell_type": "markdown",
   "metadata": {},
   "source": [
    "learning rate 0.001"
   ]
  },
  {
   "cell_type": "code",
   "execution_count": 150,
   "metadata": {},
   "outputs": [
    {
     "name": "stdout",
     "output_type": "stream",
     "text": [
      "Epoch 1/10\n",
      "12351/12351 [==============================] - 30s 2ms/step - loss: 0.0484 - accuracy: 0.9881 - val_loss: 0.0080 - val_accuracy: 0.9981\n",
      "Epoch 2/10\n",
      "12351/12351 [==============================] - 20s 2ms/step - loss: 0.0061 - accuracy: 0.9985 - val_loss: 0.0050 - val_accuracy: 0.9988\n",
      "Epoch 3/10\n",
      "12351/12351 [==============================] - 23s 2ms/step - loss: 0.0045 - accuracy: 0.9989 - val_loss: 0.0043 - val_accuracy: 0.9989\n",
      "Epoch 4/10\n",
      "12351/12351 [==============================] - 24s 2ms/step - loss: 0.0041 - accuracy: 0.9990 - val_loss: 0.0040 - val_accuracy: 0.9990\n",
      "Epoch 5/10\n",
      "12351/12351 [==============================] - 26s 2ms/step - loss: 0.0038 - accuracy: 0.9990 - val_loss: 0.0038 - val_accuracy: 0.9989\n",
      "Epoch 6/10\n",
      "12351/12351 [==============================] - 25s 2ms/step - loss: 0.0035 - accuracy: 0.9991 - val_loss: 0.0037 - val_accuracy: 0.9989\n",
      "Epoch 7/10\n",
      "12351/12351 [==============================] - 24s 2ms/step - loss: 0.0033 - accuracy: 0.9992 - val_loss: 0.0035 - val_accuracy: 0.9991\n",
      "Epoch 8/10\n",
      "12351/12351 [==============================] - 24s 2ms/step - loss: 0.0032 - accuracy: 0.9991 - val_loss: 0.0039 - val_accuracy: 0.9989\n",
      "Epoch 9/10\n",
      "12351/12351 [==============================] - 21s 2ms/step - loss: 0.0030 - accuracy: 0.9992 - val_loss: 0.0032 - val_accuracy: 0.9991\n",
      "Epoch 10/10\n",
      "12351/12351 [==============================] - 24s 2ms/step - loss: 0.0029 - accuracy: 0.9992 - val_loss: 0.0034 - val_accuracy: 0.9991\n",
      "Epoch 1/10\n",
      "12351/12351 [==============================] - 24s 2ms/step - loss: 0.0231 - accuracy: 0.9942 - val_loss: 0.0054 - val_accuracy: 0.9985\n",
      "Epoch 2/10\n",
      "12351/12351 [==============================] - 22s 2ms/step - loss: 0.0046 - accuracy: 0.9988 - val_loss: 0.0042 - val_accuracy: 0.9989\n",
      "Epoch 3/10\n",
      "12351/12351 [==============================] - 24s 2ms/step - loss: 0.0040 - accuracy: 0.9990 - val_loss: 0.0036 - val_accuracy: 0.9990\n",
      "Epoch 4/10\n",
      "12351/12351 [==============================] - 20s 2ms/step - loss: 0.0036 - accuracy: 0.9990 - val_loss: 0.0041 - val_accuracy: 0.9988\n",
      "Epoch 5/10\n",
      "12351/12351 [==============================] - 22s 2ms/step - loss: 0.0033 - accuracy: 0.9991 - val_loss: 0.0036 - val_accuracy: 0.9990\n",
      "Epoch 6/10\n",
      "12351/12351 [==============================] - 23s 2ms/step - loss: 0.0031 - accuracy: 0.9991 - val_loss: 0.0033 - val_accuracy: 0.9992\n",
      "Epoch 7/10\n",
      "12351/12351 [==============================] - 21s 2ms/step - loss: 0.0030 - accuracy: 0.9992 - val_loss: 0.0032 - val_accuracy: 0.9991\n",
      "Epoch 8/10\n",
      "12351/12351 [==============================] - 24s 2ms/step - loss: 0.0028 - accuracy: 0.9992 - val_loss: 0.0030 - val_accuracy: 0.9992\n",
      "Epoch 9/10\n",
      "12351/12351 [==============================] - 23s 2ms/step - loss: 0.0027 - accuracy: 0.9992 - val_loss: 0.0032 - val_accuracy: 0.9991\n",
      "Epoch 10/10\n",
      "12351/12351 [==============================] - 24s 2ms/step - loss: 0.0027 - accuracy: 0.9992 - val_loss: 0.0032 - val_accuracy: 0.9991\n",
      "Epoch 1/10\n",
      "12351/12351 [==============================] - 22s 2ms/step - loss: 0.0231 - accuracy: 0.9931 - val_loss: 0.0054 - val_accuracy: 0.9988\n",
      "Epoch 2/10\n",
      "12351/12351 [==============================] - 23s 2ms/step - loss: 0.0047 - accuracy: 0.9987 - val_loss: 0.0041 - val_accuracy: 0.9989\n",
      "Epoch 3/10\n",
      "12351/12351 [==============================] - 21s 2ms/step - loss: 0.0039 - accuracy: 0.9990 - val_loss: 0.0041 - val_accuracy: 0.9988\n",
      "Epoch 4/10\n",
      "12351/12351 [==============================] - 20s 2ms/step - loss: 0.0036 - accuracy: 0.9991 - val_loss: 0.0031 - val_accuracy: 0.9992\n",
      "Epoch 5/10\n",
      "12351/12351 [==============================] - 26s 2ms/step - loss: 0.0032 - accuracy: 0.9992 - val_loss: 0.0032 - val_accuracy: 0.9990\n",
      "Epoch 6/10\n",
      "12351/12351 [==============================] - 24s 2ms/step - loss: 0.0030 - accuracy: 0.9992 - val_loss: 0.0065 - val_accuracy: 0.9981\n",
      "Epoch 7/10\n",
      "12351/12351 [==============================] - 24s 2ms/step - loss: 0.0030 - accuracy: 0.9992 - val_loss: 0.0030 - val_accuracy: 0.9992\n",
      "Epoch 8/10\n",
      "12351/12351 [==============================] - 27s 2ms/step - loss: 0.0028 - accuracy: 0.9993 - val_loss: 0.0029 - val_accuracy: 0.9992\n",
      "Epoch 9/10\n",
      "12351/12351 [==============================] - 22s 2ms/step - loss: 0.0027 - accuracy: 0.9993 - val_loss: 0.0028 - val_accuracy: 0.9993\n",
      "Epoch 10/10\n",
      "12351/12351 [==============================] - 21s 2ms/step - loss: 0.0026 - accuracy: 0.9993 - val_loss: 0.0027 - val_accuracy: 0.9992\n",
      "Epoch 1/10\n",
      "12351/12351 [==============================] - 25s 2ms/step - loss: 0.0210 - accuracy: 0.9945 - val_loss: 0.0053 - val_accuracy: 0.9988\n",
      "Epoch 2/10\n",
      "12351/12351 [==============================] - 28s 2ms/step - loss: 0.0045 - accuracy: 0.9988 - val_loss: 0.0048 - val_accuracy: 0.9987\n",
      "Epoch 3/10\n",
      "12351/12351 [==============================] - 24s 2ms/step - loss: 0.0037 - accuracy: 0.9990 - val_loss: 0.0035 - val_accuracy: 0.9991\n",
      "Epoch 4/10\n",
      "12351/12351 [==============================] - 20s 2ms/step - loss: 0.0034 - accuracy: 0.9991 - val_loss: 0.0033 - val_accuracy: 0.9990\n",
      "Epoch 5/10\n",
      "12351/12351 [==============================] - 21s 2ms/step - loss: 0.0031 - accuracy: 0.9992 - val_loss: 0.0035 - val_accuracy: 0.9990\n",
      "Epoch 6/10\n",
      "12351/12351 [==============================] - 22s 2ms/step - loss: 0.0029 - accuracy: 0.9992 - val_loss: 0.0030 - val_accuracy: 0.9992\n",
      "Epoch 7/10\n",
      "12351/12351 [==============================] - 26s 2ms/step - loss: 0.0029 - accuracy: 0.9992 - val_loss: 0.0032 - val_accuracy: 0.9991\n",
      "Epoch 8/10\n",
      "12351/12351 [==============================] - 25s 2ms/step - loss: 0.0027 - accuracy: 0.9992 - val_loss: 0.0030 - val_accuracy: 0.9992\n",
      "Epoch 9/10\n",
      "12351/12351 [==============================] - 22s 2ms/step - loss: 0.0026 - accuracy: 0.9993 - val_loss: 0.0031 - val_accuracy: 0.9993\n",
      "Epoch 10/10\n",
      "12351/12351 [==============================] - 21s 2ms/step - loss: 0.0025 - accuracy: 0.9993 - val_loss: 0.0034 - val_accuracy: 0.9991\n"
     ]
    },
    {
     "data": {
      "image/png": "[encoded data removed]",
      "text/plain": [
       "<Figure size 1000x800 with 4 Axes>"
      ]
     },
     "metadata": {},
     "output_type": "display_data"
    }
   ],
   "source": [
    "fig, ax = plt.subplots(4,figsize=(10, 8))\n",
    "ax = ax.flatten()\n",
    "\n",
    "#entrena y evalúa modelos con diferentes funciones de activación utilizando la optimización Adam\n",
    "\n",
    "activation_func = ['sigmoid', 'tanh', 'relu', 'elu']\n",
    "for i, acfn in enumerate(activation_func):\n",
    "    opt = Adam(learning_rate=0.001)\n",
    "    model = Sequential()\n",
    "    model.add(Dense(X_train.shape[1], input_dim=X_train.shape[1], activation='relu'))\n",
    "    model.add(Dense(12, activation = acfn))\n",
    "    model.add(Dense(5, activation='softmax'))\n",
    "\n",
    "    model.compile(loss='categorical_crossentropy', optimizer=opt, metrics=['accuracy'])\n",
    "    \n",
    "    trials = model.fit(X_train, y_train, epochs=10, validation_data=(X_test, y_test))\n",
    "\n",
    "# traza las curvas de precisión en función de las épocas para cada función de activación\n",
    "    ax[i].plot(trials.history['accuracy'], label= str(acfn))\n",
    "    ax[i].set_title('Activation Function: ' + str(acfn))\n",
    "    ax[i].set_xlabel('Epoch')\n",
    "    ax[i].set_ylabel('Accuracy')\n",
    "    ax[i].legend()\n",
    "\n",
    "plt.tight_layout()\n",
    "plt.show()"
   ]
  },
  {
   "attachments": {},
   "cell_type": "markdown",
   "metadata": {},
   "source": [
    "## Modelling a Neural Network"
   ]
  },
  {
   "cell_type": "code",
   "execution_count": 151,
   "metadata": {},
   "outputs": [
    {
     "data": {
      "text/plain": [
       "40"
      ]
     },
     "execution_count": 151,
     "metadata": {},
     "output_type": "execute_result"
    }
   ],
   "source": [
    "#tamaño de entrada de la capa densa inicial del modelo\n",
    "X_train.shape[1]"
   ]
  },
  {
   "cell_type": "code",
   "execution_count": 152,
   "metadata": {},
   "outputs": [],
   "source": [
    "#modelo secuencial con dos capas ocultas de activación ReLU y una capa de salida de activación softmax. \n",
    "opt = Adam(learning_rate=0.001)\n",
    "model = Sequential()\n",
    "model.add(Dense(X_train.shape[1], input_dim=X_train.shape[1], activation='relu'))\n",
    "model.add(Dense(12, activation='relu'))\n",
    "model.add(Dense(5, activation='softmax'))"
   ]
  },
  {
   "cell_type": "code",
   "execution_count": 153,
   "metadata": {},
   "outputs": [],
   "source": [
    "#especificar la función de pérdida, el optimizador y las métricas que se utilizarán durante el entrenamiento.\n",
    "model.compile(loss='categorical_crossentropy', optimizer=opt, metrics=['accuracy'])"
   ]
  },
  {
   "cell_type": "code",
   "execution_count": 154,
   "metadata": {},
   "outputs": [
    {
     "name": "stdout",
     "output_type": "stream",
     "text": [
      "Epoch 1/10\n",
      "4941/4941 [==============================] - 9s 2ms/step - loss: 0.0391 - accuracy: 0.9895 - val_loss: 0.0074 - val_accuracy: 0.9983\n",
      "Epoch 2/10\n",
      "4941/4941 [==============================] - 10s 2ms/step - loss: 0.0057 - accuracy: 0.9986 - val_loss: 0.0047 - val_accuracy: 0.9988\n",
      "Epoch 3/10\n",
      "4941/4941 [==============================] - 9s 2ms/step - loss: 0.0043 - accuracy: 0.9989 - val_loss: 0.0044 - val_accuracy: 0.9989\n",
      "Epoch 4/10\n",
      "4941/4941 [==============================] - 8s 2ms/step - loss: 0.0037 - accuracy: 0.9989 - val_loss: 0.0043 - val_accuracy: 0.9989\n",
      "Epoch 5/10\n",
      "4941/4941 [==============================] - 8s 2ms/step - loss: 0.0034 - accuracy: 0.9990 - val_loss: 0.0041 - val_accuracy: 0.9990\n",
      "Epoch 6/10\n",
      "4941/4941 [==============================] - 10s 2ms/step - loss: 0.0031 - accuracy: 0.9992 - val_loss: 0.0044 - val_accuracy: 0.9990\n",
      "Epoch 7/10\n",
      "4941/4941 [==============================] - 10s 2ms/step - loss: 0.0028 - accuracy: 0.9991 - val_loss: 0.0038 - val_accuracy: 0.9992\n",
      "Epoch 8/10\n",
      "4941/4941 [==============================] - 9s 2ms/step - loss: 0.0027 - accuracy: 0.9992 - val_loss: 0.0043 - val_accuracy: 0.9990\n",
      "Epoch 9/10\n",
      "4941/4941 [==============================] - 8s 2ms/step - loss: 0.0026 - accuracy: 0.9993 - val_loss: 0.0036 - val_accuracy: 0.9992\n",
      "Epoch 10/10\n",
      "4941/4941 [==============================] - 8s 2ms/step - loss: 0.0025 - accuracy: 0.9993 - val_loss: 0.0041 - val_accuracy: 0.9991\n"
     ]
    }
   ],
   "source": [
    "#l entrenamiento del modelo\n",
    "trials = model.fit(X_train, y_train, epochs=10, validation_split=0.2, batch_size=64)"
   ]
  },
  {
   "cell_type": "code",
   "execution_count": 155,
   "metadata": {},
   "outputs": [
    {
     "name": "stdout",
     "output_type": "stream",
     "text": [
      "You must install pydot (`pip install pydot`) and install graphviz (see instructions at https://graphviz.gitlab.io/download/) for plot_model to work.\n"
     ]
    }
   ],
   "source": [
    "#gráfico del modelo\n",
    "plot_model(model, to_file='model_diagram.png', show_shapes=True, show_layer_names=True)"
   ]
  },
  {
   "cell_type": "code",
   "execution_count": 156,
   "metadata": {},
   "outputs": [
    {
     "data": {
      "image/png": "[encoded data removed]",
      "text/plain": [
       "<Figure size 1500x1500 with 1 Axes>"
      ]
     },
     "metadata": {},
     "output_type": "display_data"
    }
   ],
   "source": [
    "#precisión del modelo en el conjunto de entrenamiento y el conjunto de prueba a lo largo de las épocas.\n",
    "fig, ax = plt.subplots(figsize=(15, 15))\n",
    "plt.plot(trials.history['accuracy'])\n",
    "plt.plot(trials.history['val_accuracy'])\n",
    "plt.title('model accuracy')\n",
    "plt.ylabel('accuracy')\n",
    "plt.xlabel('epoch')\n",
    "plt.legend(['train', 'test'], loc='upper left')\n",
    "plt.show()"
   ]
  },
  {
   "cell_type": "code",
   "execution_count": 159,
   "metadata": {},
   "outputs": [],
   "source": [
    "model.save('NN_model.h5')"
   ]
  }
 ],
 "metadata": {
  "kernelspec": {
   "display_name": "Python 3",
   "language": "python",
   "name": "python3"
  },
  "language_info": {
   "codemirror_mode": {
    "name": "ipython",
    "version": 3
   },
   "file_extension": ".py",
   "mimetype": "text/x-python",
   "name": "python",
   "nbconvert_exporter": "python",
   "pygments_lexer": "ipython3",
   "version": "3.10.11"
  },
  "orig_nbformat": 4
 },
 "nbformat": 4,
 "nbformat_minor": 2
}
